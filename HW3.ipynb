{
 "cells": [
  {
   "cell_type": "code",
   "execution_count": 3,
   "id": "a5d4aab5",
   "metadata": {},
   "outputs": [
    {
     "name": "stdout",
     "output_type": "stream",
     "text": [
      "{98, 35, 15, 213, 54, 119}\n"
     ]
    }
   ],
   "source": [
    "ids = {'user1': [213, 213, 213, 15, 213], \n",
    "       'user2': [54, 54, 119, 119, 119], \n",
    "       'user3': [213, 98, 98, 35]}\n",
    "list1 = []\n",
    "for item in ids.values():\n",
    "    list1.append(item)\n",
    "\n",
    "list2 = []\n",
    "for i in list1:\n",
    "    list2 += i\n",
    "\n",
    "ans = set(list2)\n",
    "print(ans)"
   ]
  },
  {
   "cell_type": "code",
   "execution_count": 11,
   "id": "3727b43d",
   "metadata": {},
   "outputs": [
    {
     "name": "stdout",
     "output_type": "stream",
     "text": [
      "Поисковых запросов содержащих 2 слов (а): 42.86%\n",
      "Поисковых запросов содержащих 3 слов (а): 57.14%\n"
     ]
    }
   ],
   "source": [
    "queries = [\n",
    "    'смотреть сериалы онлайн',\n",
    "    'новости спорта',\n",
    "    'афиша кино',\n",
    "    'курс доллара',\n",
    "    'сериалы этим летом',\n",
    "    'курс по питону',\n",
    "    'сериалы про спорт'\n",
    "]\n",
    "\n",
    "l_q = len(queries)\n",
    "list3 = []\n",
    "for i in queries:\n",
    "        ss = i.split(' ')\n",
    "        lss = len(ss)\n",
    "        list3.append(lss)\n",
    "\n",
    "un_list3 = list(set(list3))\n",
    "answer = []\n",
    "for i in un_list3:\n",
    "    q = [i, list3.count(i)]\n",
    "    answer.append(q)\n",
    "\n",
    "for i in answer:\n",
    "    per = (i[1]/l_q)*100\n",
    "    print(f'Поисковых запросов содержащих {i[0]} слов (а): {per:.2f}%')\n",
    " "
   ]
  },
  {
   "cell_type": "code",
   "execution_count": 120,
   "id": "088b75bc",
   "metadata": {},
   "outputs": [
    {
     "name": "stdout",
     "output_type": "stream",
     "text": [
      "{'vk': {'revenue': 103, 'cost': 98, 'ROI': 5.1}, 'yandex': {'revenue': 179, 'cost': 153, 'ROI': 17.0}, 'facebook': {'revenue': 103, 'cost': 110, 'ROI': -6.4}, 'adwords': {'revenue': 35, 'cost': 34, 'ROI': 2.9}, 'twitter': {'revenue': 11, 'cost': 24, 'ROI': -54.2}}\n"
     ]
    }
   ],
   "source": [
    "results = {\n",
    "    'vk': {'revenue': 103, 'cost': 98},\n",
    "    'yandex': {'revenue': 179, 'cost': 153},\n",
    "    'facebook': {'revenue': 103, 'cost': 110},\n",
    "    'adwords': {'revenue': 35, 'cost': 34},\n",
    "    'twitter': {'revenue': 11, 'cost': 24},\n",
    "}\n",
    "\n",
    "for key, values in results.items():\n",
    "    roi = ((values['revenue']/values['cost']) - 1)*100\n",
    "    values['ROI'] = round(roi, 1)\n",
    "print(results)"
   ]
  },
  {
   "cell_type": "code",
   "execution_count": 126,
   "id": "fb6d9c11",
   "metadata": {},
   "outputs": [
    {
     "name": "stdout",
     "output_type": "stream",
     "text": [
      "Максимальный объем продаж на канале vk\n"
     ]
    }
   ],
   "source": [
    "stats = {'facebook': 55, 'yandex': 115, 'vk': 120, 'google': 99, 'email': 42, 'ok': 98}\n",
    "\n",
    "maxm = max(stats.values())\n",
    "for key, values in stats.items():\n",
    "    if values == maxm:\n",
    "        print(f'Максимальный объем продаж на канале {key}')"
   ]
  },
  {
   "cell_type": "code",
   "execution_count": 12,
   "id": "20c41a8a",
   "metadata": {},
   "outputs": [
    {
     "name": "stdout",
     "output_type": "stream",
     "text": [
      "{'2018-01-01': {'yandex': {'cpc': 100}}}\n"
     ]
    }
   ],
   "source": [
    "my_list = ['2018-01-01', 'yandex', 'cpc', 100]\n",
    "\n",
    "long = len(my_list) - 2\n",
    "\n",
    "my_dict = {}\n",
    "my_dict[my_list[long]] = my_list[long+1]\n",
    "\n",
    "while long > 0:\n",
    "    long -= 1\n",
    "    my_dict2 = my_dict.copy()\n",
    "    my_dict.clear()\n",
    "    my_dict[my_list[long]] = my_dict2\n",
    "print(my_dict)"
   ]
  },
  {
   "cell_type": "code",
   "execution_count": 24,
   "id": "f33201b7",
   "metadata": {},
   "outputs": [
    {
     "name": "stdout",
     "output_type": "stream",
     "text": [
      "Введите количество порций3\n",
      "Сыр 210 гр\n",
      "Томаты 6 шт\n",
      "Огурцы 60 гр\n",
      "Маслины 30 гр\n",
      "Оливковое масло 60 мл\n",
      "Салат 30 гр\n",
      "Перец 60 гр\n",
      "Колбаса 90 гр\n",
      "Бекон 90 гр\n",
      "Оливки 30 гр\n",
      "Томаты 60 гр\n",
      "Тесто 300 гр\n",
      "Лимон 3 шт\n",
      "Вода 600 мл\n",
      "Сахар 30 гр\n",
      "Лайм 60 гр\n"
     ]
    }
   ],
   "source": [
    "cook_book = {\n",
    "  'салат': [\n",
    "     {'ingridient_name': 'сыр', 'quantity': 50, 'measure': 'гр'},\n",
    "     {'ingridient_name': 'томаты', 'quantity': 2, 'measure': 'шт'},\n",
    "     {'ingridient_name': 'огурцы', 'quantity': 20, 'measure': 'гр'},\n",
    "     {'ingridient_name': 'маслины', 'quantity': 10, 'measure': 'гр'},\n",
    "     {'ingridient_name': 'оливковое масло', 'quantity': 20, 'measure': 'мл'},\n",
    "     {'ingridient_name': 'салат', 'quantity': 10, 'measure': 'гр'},\n",
    "     {'ingridient_name': 'перец', 'quantity': 20, 'measure': 'гр'}\n",
    "    ],\n",
    "  'пицца': [\n",
    "     {'ingridient_name': 'сыр', 'quantity': 20, 'measure': 'гр'},\n",
    "     {'ingridient_name': 'колбаса', 'quantity': 30, 'measure': 'гр'},\n",
    "     {'ingridient_name': 'бекон', 'quantity': 30, 'measure': 'гр'},\n",
    "     {'ingridient_name': 'оливки', 'quantity': 10, 'measure': 'гр'},\n",
    "     {'ingridient_name': 'томаты', 'quantity': 20, 'measure': 'гр'},\n",
    "     {'ingridient_name': 'тесто', 'quantity': 100, 'measure': 'гр'},   \n",
    "    ],\n",
    "  'лимонад': [\n",
    "     {'ingridient_name': 'лимон', 'quantity': 1, 'measure': 'шт'},\n",
    "     {'ingridient_name': 'вода', 'quantity': 200, 'measure': 'мл'},\n",
    "     {'ingridient_name': 'сахар', 'quantity': 10, 'measure': 'гр'},\n",
    "     {'ingridient_name': 'лайм', 'quantity': 20, 'measure': 'гр'},    \n",
    "    ]\n",
    "}\n",
    "\n",
    "persons = int(input('Введите количество порций'))\n",
    "\n",
    "my_dict = {}\n",
    "for dish in cook_book.items():\n",
    "    for ingridient in dish[1]:\n",
    "        ingr_measure = ingridient['ingridient_name'].replace(' ', '_') + ' ' + ingridient['measure']\n",
    "        if ingr_measure not in my_dict:\n",
    "            my_dict.setdefault(ingr_measure, ingridient['quantity']*persons)\n",
    "        else:\n",
    "            my_dict[ingr_measure] += ingridient['quantity']*persons\n",
    "for key, value in my_dict.items():\n",
    "    name = key.split(' ')\n",
    "    name0 = name[0].capitalize()\n",
    "    print(name0.replace('_', ' '), value, name[1])\n",
    "    "
   ]
  }
 ],
 "metadata": {
  "kernelspec": {
   "display_name": "Python 3 (ipykernel)",
   "language": "python",
   "name": "python3"
  },
  "language_info": {
   "codemirror_mode": {
    "name": "ipython",
    "version": 3
   },
   "file_extension": ".py",
   "mimetype": "text/x-python",
   "name": "python",
   "nbconvert_exporter": "python",
   "pygments_lexer": "ipython3",
   "version": "3.9.13"
  }
 },
 "nbformat": 4,
 "nbformat_minor": 5
}
